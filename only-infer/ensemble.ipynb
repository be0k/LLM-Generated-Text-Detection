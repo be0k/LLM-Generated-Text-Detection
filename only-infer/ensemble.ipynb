{
 "cells": [
  {
   "cell_type": "code",
   "execution_count": 21,
   "id": "4edaa5d8",
   "metadata": {},
   "outputs": [],
   "source": [
    "import pandas as pd\n",
    "\n",
    "a = pd.read_csv('stage2_a_kanana21b.csv')  \n",
    "b = pd.read_csv('stage2_a_kanana_8b.csv')\n",
    "c = pd.read_csv('stage2_attpool_b.csv')\n",
    "d = pd.read_csv('stage2_regularization.csv')"
   ]
  },
  {
   "cell_type": "code",
   "execution_count": 22,
   "id": "0b71b8fc",
   "metadata": {},
   "outputs": [],
   "source": [
    "import torch\n",
    "\n",
    "x = torch.sigmoid(torch.tensor(a['generated']))\n",
    "y = torch.sigmoid(torch.tensor(b['generated']))\n",
    "z = torch.sigmoid(torch.tensor(c['generated']))\n",
    "s = torch.sigmoid(torch.tensor(d['generated']))\n"
   ]
  },
  {
   "cell_type": "code",
   "execution_count": 23,
   "id": "1012025b",
   "metadata": {},
   "outputs": [],
   "source": [
    "# soft voting 평균\n",
    "avg = (x + y + z + s) / 4\n"
   ]
  },
  {
   "cell_type": "code",
   "execution_count": 24,
   "id": "7fde7e17",
   "metadata": {},
   "outputs": [],
   "source": [
    "\n",
    "a['generated'] = avg\n",
    "\n",
    "a.to_csv('final.csv',index=False)"
   ]
  },
  {
   "cell_type": "code",
   "execution_count": null,
   "id": "2efc22a6",
   "metadata": {},
   "outputs": [],
   "source": []
  },
  {
   "cell_type": "code",
   "execution_count": null,
   "id": "c95cc77b",
   "metadata": {},
   "outputs": [],
   "source": []
  }
 ],
 "metadata": {
  "kernelspec": {
   "display_name": "sw",
   "language": "python",
   "name": "python3"
  },
  "language_info": {
   "codemirror_mode": {
    "name": "ipython",
    "version": 3
   },
   "file_extension": ".py",
   "mimetype": "text/x-python",
   "name": "python",
   "nbconvert_exporter": "python",
   "pygments_lexer": "ipython3",
   "version": "3.12.11"
  }
 },
 "nbformat": 4,
 "nbformat_minor": 5
}
